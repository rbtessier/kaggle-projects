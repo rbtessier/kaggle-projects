{
 "cells": [
  {
   "cell_type": "markdown",
   "metadata": {},
   "source": [
    "After playing around with this for awhile, there are a number of things I will need to do with this data before I can actually train a machine learning model on this.\n",
    "\n",
    "in the following, I'm faced with two challenges\n",
    "1. datetime won't convert nicely to a number (is there some other solution?)\n",
    "2. Root Mean Squared Logistic Error doesn't work with negative values (how do I get around this?)\n",
    "\n",
    "As I'm reading machine learning, consider coming back to fix these things. July 23\n",
    "\n",
    "July 24 My solution to this was first to replace all spaces with ```_```'s but that didn't work, it turned out that ```:``` and ```-``` gave me trouble too so I replaced all these with ```_```. Then to use the Root Mean Squared Logarithmic Error we needed to normalize values so I brought in the sklearn preprocessing MinMaxScaler. \n",
    "\n",
    "later: Actually, I was wrong! The normalization wasn't needed for the log. THe problem was that since I was using linear regression, I was predicting negative values! This made no sense in the context of the problem anyway so I just made any negatives equal 0. I also rounded my counds to integer values. \n",
    "\n",
    "Finally: submitted for a score of about 1.4 - leaderboard has people at 0.33 so I'm quite a ways off, but not bad for a first try! :)\n"
   ]
  },
  {
   "cell_type": "code",
   "execution_count": 1,
   "metadata": {},
   "outputs": [],
   "source": [
    "import pandas as pd\n",
    "import numpy as np\n",
    "from sklearn import preprocessing\n",
    "from sklearn import metrics\n",
    "from sklearn.linear_model import LinearRegression\n",
    "from sklearn.model_selection import train_test_split\n",
    "\n",
    "\n",
    "\n",
    "\n",
    "bikes = pd.read_csv('train.csv')\n",
    "bikes['datetime'] = bikes['datetime'].str.replace(' ', '_', regex=False) #why does regex = false make this work?\n",
    "bikes['datetime'] = bikes['datetime'].str.replace(':', '_', regex=False)\n",
    "bikes['datetime'] = bikes['datetime'].str.replace('-', '_', regex=False)\n",
    "#replace characters in datetime preventing us from converting to floats\n",
    "\n",
    "test_data = pd.read_csv('test.csv')\n",
    "temp_datetime = pd.read_csv('test.csv')['datetime'] #this is just to save the datetimes I need for when I build my submission file\n",
    "test_data['datetime'] = test_data['datetime'].str.replace(' ', '_', regex = False) #why does regex = False make this work?\n",
    "test_data['datetime'] = test_data['datetime'].str.replace(':', '_', regex = False)\n",
    "test_data['datetime'] = test_data['datetime'].str.replace('-', '_', regex = False)\n",
    "test_data.head()\n",
    "#replace characters in datetime preventing us from converting to floats\n",
    "\n",
    "feature_cols = ['datetime', 'season', 'holiday', 'workingday', 'weather', 'temp',\n",
    "       'atemp', 'humidity', 'windspeed']"
   ]
  },
  {
   "cell_type": "code",
   "execution_count": 2,
   "metadata": {},
   "outputs": [],
   "source": [
    "scaler = preprocessing.MinMaxScaler()\n",
    "scaler.fit(bikes[feature_cols])\n",
    "bikes[feature_cols]=scaler.transform(bikes[feature_cols])\n"
   ]
  },
  {
   "cell_type": "code",
   "execution_count": 3,
   "metadata": {},
   "outputs": [
    {
     "name": "stdout",
     "output_type": "stream",
     "text": [
      "           datetime  season  holiday  workingday  weather      temp     atemp  \\\n",
      "0      0.000000e+00     0.0      0.0         0.0      0.0  0.224490  0.305068   \n",
      "1      8.994239e-07     0.0      0.0         0.0      0.0  0.204082  0.288064   \n",
      "2      1.798848e-06     0.0      0.0         0.0      0.0  0.204082  0.288064   \n",
      "3      2.698271e-06     0.0      0.0         0.0      0.0  0.224490  0.305068   \n",
      "4      3.597695e-06     0.0      0.0         0.0      0.0  0.224490  0.305068   \n",
      "...             ...     ...      ...         ...      ...       ...       ...   \n",
      "10881  9.999964e-01     1.0      0.0         1.0      0.0  0.367347  0.423649   \n",
      "10882  9.999973e-01     1.0      0.0         1.0      0.0  0.346939  0.372860   \n",
      "10883  9.999982e-01     1.0      0.0         1.0      0.0  0.326531  0.338964   \n",
      "10884  9.999991e-01     1.0      0.0         1.0      0.0  0.326531  0.372860   \n",
      "10885  1.000000e+00     1.0      0.0         1.0      0.0  0.306122  0.355856   \n",
      "\n",
      "       humidity  windspeed  casual  registered  count  \n",
      "0          0.81   0.000000       3          13     16  \n",
      "1          0.80   0.000000       8          32     40  \n",
      "2          0.80   0.000000       5          27     32  \n",
      "3          0.75   0.000000       3          10     13  \n",
      "4          0.75   0.000000       0           1      1  \n",
      "...         ...        ...     ...         ...    ...  \n",
      "10881      0.50   0.456213       7         329    336  \n",
      "10882      0.57   0.263195      10         231    241  \n",
      "10883      0.61   0.263195       4         164    168  \n",
      "10884      0.61   0.105325      12         117    129  \n",
      "10885      0.66   0.157870       4          84     88  \n",
      "\n",
      "[10886 rows x 12 columns]\n",
      "0       2011-01-20 00:00:00\n",
      "1       2011-01-20 01:00:00\n",
      "2       2011-01-20 02:00:00\n",
      "3       2011-01-20 03:00:00\n",
      "4       2011-01-20 04:00:00\n",
      "               ...         \n",
      "6488    2012-12-31 19:00:00\n",
      "6489    2012-12-31 20:00:00\n",
      "6490    2012-12-31 21:00:00\n",
      "6491    2012-12-31 22:00:00\n",
      "6492    2012-12-31 23:00:00\n",
      "Name: datetime, Length: 6493, dtype: object\n"
     ]
    }
   ],
   "source": [
    "print(bikes)\n",
    "print(temp_datetime)"
   ]
  },
  {
   "cell_type": "code",
   "execution_count": 4,
   "metadata": {},
   "outputs": [],
   "source": [
    "def bikes_model(feature_cols, bikes):\n",
    "    X=bikes[feature_cols]\n",
    "    y=bikes['count']\n",
    "    #X_test = test_data[feature_cols]\n",
    "    #y_test = test_data['count']\n",
    "    #setting our overall data X, and y\n",
    "    #note in this example we're attempting to find an association\n",
    "    #between the temperature of the day and the number of bike rentals\n",
    "\n",
    "    X_train, X_test, y_train, y_test = train_test_split(X, y)\n",
    "    #X_train[feature_cols] = scaler.transform(X_train[feature_cols])\n",
    "    #X_test[feature_cols] = scaler.transform(X_test[feature_cols])\n",
    "    #X_train and y_train will be used to train the model\n",
    "    #X_test and y_test will be used to test the model\n",
    "    #remember that all four of these variables are just subsets of the overall X and Y\n",
    "\n",
    "    linreg = LinearRegression()\n",
    "    #instantiate the model\n",
    "\n",
    "    linreg.fit(X_train, y_train)\n",
    "    # fit the model to our training set\n",
    "\n",
    "    y_pred = linreg.predict(X_test)\n",
    "    #predict our testing set\n",
    "    #y_test = y_test.abs()\n",
    "    \n",
    "    #the log error doesn't take negative values, linear regression however can predict negative counts.\n",
    "    #since this makes no sense, I make any negative predictions = 0.\n",
    "    y_pred[y_pred <0] = 0\n",
    "    \n",
    "    error = np.sqrt(metrics.mean_squared_log_error(y_test, y_pred))\n",
    "    #error = np.sqrt(metrics.mean_squared_log_error(y_test, y_pred))\n",
    "    # calculate our metric\n",
    "    \n",
    "    print('RMSLE is ' + str(error))\n",
    "    \n",
    "    return error, y_pred, linreg\n",
    "\n",
    " "
   ]
  },
  {
   "cell_type": "code",
   "execution_count": 5,
   "metadata": {},
   "outputs": [
    {
     "data": {
      "text/plain": [
       "Index(['datetime', 'season', 'holiday', 'workingday', 'weather', 'temp',\n",
       "       'atemp', 'humidity', 'windspeed', 'casual', 'registered', 'count'],\n",
       "      dtype='object')"
      ]
     },
     "execution_count": 5,
     "metadata": {},
     "output_type": "execute_result"
    }
   ],
   "source": [
    "bikes.columns"
   ]
  },
  {
   "cell_type": "code",
   "execution_count": 29,
   "metadata": {},
   "outputs": [
    {
     "name": "stdout",
     "output_type": "stream",
     "text": [
      "RMSLE is 1.370558424354406\n"
     ]
    }
   ],
   "source": [
    "(error, sample_prediction, linreg) = bikes_model(feature_cols, bikes)"
   ]
  },
  {
   "cell_type": "code",
   "execution_count": 30,
   "metadata": {},
   "outputs": [],
   "source": [
    "#here we apply our model to the test set for the kaggle competition, but first we need to scale/normalize the \n",
    "#test data\n",
    "scaler.fit(test_data[feature_cols])\n",
    "test_data[feature_cols]=scaler.transform(test_data[feature_cols])"
   ]
  },
  {
   "cell_type": "code",
   "execution_count": 31,
   "metadata": {},
   "outputs": [],
   "source": [
    "predictions = linreg.predict(test_data)\n",
    "#ensure all negative values predict 0\n",
    "predictions[predictions <0] = 0 \n",
    "\n",
    "#ensure all counts are rounded\n",
    "predictions = np.rint(predictions)\n",
    "submission = pd.DataFrame({'datetime': temp_datetime, 'count': predictions})"
   ]
  },
  {
   "cell_type": "code",
   "execution_count": 32,
   "metadata": {},
   "outputs": [
    {
     "data": {
      "text/html": [
       "<div>\n",
       "<style scoped>\n",
       "    .dataframe tbody tr th:only-of-type {\n",
       "        vertical-align: middle;\n",
       "    }\n",
       "\n",
       "    .dataframe tbody tr th {\n",
       "        vertical-align: top;\n",
       "    }\n",
       "\n",
       "    .dataframe thead th {\n",
       "        text-align: right;\n",
       "    }\n",
       "</style>\n",
       "<table border=\"1\" class=\"dataframe\">\n",
       "  <thead>\n",
       "    <tr style=\"text-align: right;\">\n",
       "      <th></th>\n",
       "      <th>datetime</th>\n",
       "      <th>count</th>\n",
       "    </tr>\n",
       "  </thead>\n",
       "  <tbody>\n",
       "    <tr>\n",
       "      <th>0</th>\n",
       "      <td>2011-01-20 00:00:00</td>\n",
       "      <td>81.0</td>\n",
       "    </tr>\n",
       "    <tr>\n",
       "      <th>1</th>\n",
       "      <td>2011-01-20 01:00:00</td>\n",
       "      <td>68.0</td>\n",
       "    </tr>\n",
       "    <tr>\n",
       "      <th>2</th>\n",
       "      <td>2011-01-20 02:00:00</td>\n",
       "      <td>68.0</td>\n",
       "    </tr>\n",
       "    <tr>\n",
       "      <th>3</th>\n",
       "      <td>2011-01-20 03:00:00</td>\n",
       "      <td>74.0</td>\n",
       "    </tr>\n",
       "    <tr>\n",
       "      <th>4</th>\n",
       "      <td>2011-01-20 04:00:00</td>\n",
       "      <td>74.0</td>\n",
       "    </tr>\n",
       "  </tbody>\n",
       "</table>\n",
       "</div>"
      ],
      "text/plain": [
       "              datetime  count\n",
       "0  2011-01-20 00:00:00   81.0\n",
       "1  2011-01-20 01:00:00   68.0\n",
       "2  2011-01-20 02:00:00   68.0\n",
       "3  2011-01-20 03:00:00   74.0\n",
       "4  2011-01-20 04:00:00   74.0"
      ]
     },
     "execution_count": 32,
     "metadata": {},
     "output_type": "execute_result"
    }
   ],
   "source": [
    "submission.head()"
   ]
  },
  {
   "cell_type": "code",
   "execution_count": 33,
   "metadata": {},
   "outputs": [],
   "source": [
    "submission.to_csv('linReg_submission.csv', index=False, )"
   ]
  },
  {
   "cell_type": "markdown",
   "metadata": {},
   "source": []
  },
  {
   "cell_type": "code",
   "execution_count": null,
   "metadata": {},
   "outputs": [],
   "source": []
  }
 ],
 "metadata": {
  "kernelspec": {
   "display_name": "Python 3",
   "language": "python",
   "name": "python3"
  },
  "language_info": {
   "codemirror_mode": {
    "name": "ipython",
    "version": 3
   },
   "file_extension": ".py",
   "mimetype": "text/x-python",
   "name": "python",
   "nbconvert_exporter": "python",
   "pygments_lexer": "ipython3",
   "version": "3.8.4"
  }
 },
 "nbformat": 4,
 "nbformat_minor": 4
}
