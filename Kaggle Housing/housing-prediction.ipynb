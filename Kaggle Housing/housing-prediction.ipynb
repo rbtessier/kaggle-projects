{
 "cells": [
  {
   "cell_type": "markdown",
   "metadata": {},
   "source": [
    "We're going to do some autoML regression to start then try to break it down more\n"
   ]
  },
  {
   "cell_type": "code",
   "execution_count": 1,
   "metadata": {},
   "outputs": [],
   "source": [
    "import azureml.core\n",
    "from azureml.core import Workspace"
   ]
  },
  {
   "cell_type": "code",
   "execution_count": 2,
   "metadata": {},
   "outputs": [],
   "source": [
    "ws = Workspace.from_config()"
   ]
  },
  {
   "cell_type": "code",
   "execution_count": 3,
   "metadata": {},
   "outputs": [],
   "source": [
    "default_ds = ws.get_default_datastore()"
   ]
  },
  {
   "cell_type": "code",
   "execution_count": 8,
   "metadata": {},
   "outputs": [
    {
     "name": "stdout",
     "output_type": "stream",
     "text": [
      "Dataset already registered.\n",
      "Dataset already registered.\n",
      "data ready!\n"
     ]
    }
   ],
   "source": [
    "from azureml.core import Dataset\n",
    "\n",
    "if 'house dataset' not in ws.datasets:\n",
    "    default_ds.upload_files(files=['./train.csv'],\n",
    "                            target_path='housing-data/',\n",
    "                            overwrite = True,\n",
    "                            show_progress = True\n",
    "                           )\n",
    "    \n",
    "    tab_data_set = Dataset.Tabular.from_delimited_files(path = (default_ds, 'housing-data/train.csv'))\n",
    "    \n",
    "    try:\n",
    "        tab_data_set = tab_data_set.register(workspace=ws,\n",
    "                                             name='house dataset',\n",
    "                                             description='housing data for kaggle competition',\n",
    "                                             tags = {'format':'CSV', 'purpose':'training'},\n",
    "                                             create_new_version=True)\n",
    "        print('Dataset registered.')\n",
    "    except Exception as ex:\n",
    "        print(ex)\n",
    "else:\n",
    "    print('Dataset already registered.')\n",
    "\n",
    "if 'house testing dataset' not in ws.datasets:\n",
    "    default_ds.upload_files(files=['./test.csv'],\n",
    "                            target_path='housing-data/',\n",
    "                            overwrite = True,\n",
    "                            show_progress = True\n",
    "                           )\n",
    "    \n",
    "    tab_testing_data_set = Dataset.Tabular.from_delimited_files(path = (default_ds, 'housing-data/test.csv'))\n",
    "    \n",
    "    try:\n",
    "        tab_testing_data_set = tab_testing_data_set.register(workspace=ws,\n",
    "                                             name='house testing dataset',\n",
    "                                             description='housing test data for kaggle competition submission',\n",
    "                                             tags = {'format':'CSV', 'purpose':'training'},\n",
    "                                             create_new_version=True)\n",
    "        print('Dataset registered.')\n",
    "    except Exception as ex:\n",
    "        print(ex)\n",
    "else:\n",
    "    print('Dataset already registered.')\n",
    "    \n",
    "\n",
    "housing_ds = ws.datasets.get('house dataset')\n",
    "housing_testing_ds = ws.datasets.get('house testing dataset')\n",
    "train_ds, test_ds = housing_ds.random_split(percentage=0.7, seed=132)\n",
    "print('data ready!')"
   ]
  },
  {
   "cell_type": "code",
   "execution_count": null,
   "metadata": {},
   "outputs": [],
   "source": []
  }
 ],
 "metadata": {
  "kernelspec": {
   "display_name": "Python 3",
   "language": "python",
   "name": "python3"
  },
  "language_info": {
   "codemirror_mode": {
    "name": "ipython",
    "version": 3
   },
   "file_extension": ".py",
   "mimetype": "text/x-python",
   "name": "python",
   "nbconvert_exporter": "python",
   "pygments_lexer": "ipython3",
   "version": "3.8.4"
  }
 },
 "nbformat": 4,
 "nbformat_minor": 4
}
